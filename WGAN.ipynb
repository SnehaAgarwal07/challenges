{
  "nbformat": 4,
  "nbformat_minor": 0,
  "metadata": {
    "colab": {
      "name": "WGAN.ipynb",
      "provenance": [],
      "collapsed_sections": [],
      "include_colab_link": true
    },
    "kernelspec": {
      "name": "python3",
      "display_name": "Python 3"
    },
    "accelerator": "GPU"
  },
  "cells": [
    {
      "cell_type": "markdown",
      "metadata": {
        "id": "view-in-github",
        "colab_type": "text"
      },
      "source": [
        "<a href=\"https://colab.research.google.com/github/SnehaAgarwal07/challenges/blob/master/WGAN.ipynb\" target=\"_parent\"><img src=\"https://colab.research.google.com/assets/colab-badge.svg\" alt=\"Open In Colab\"/></a>"
      ]
    },
    {
      "cell_type": "code",
      "metadata": {
        "id": "4VOmLaiZX9st",
        "colab_type": "code",
        "colab": {}
      },
      "source": [
        "from numpy import expand_dims\n",
        "from numpy import mean\n",
        "from numpy import ones\n",
        "from numpy.random import randn\n",
        "from numpy.random import randint\n",
        "from keras.datasets.mnist import load_data\n",
        "from keras import backend\n",
        "from keras.optimizers import RMSprop\n",
        "from keras.models import Sequential\n",
        "from keras.layers import Dense\n",
        "from keras.layers import Reshape\n",
        "from keras.layers import Flatten\n",
        "from keras.layers import Conv2D\n",
        "from keras.layers import Conv2DTranspose\n",
        "from keras.layers import LeakyReLU\n",
        "from keras.layers import BatchNormalization\n",
        "from keras.initializers import RandomNormal\n",
        "from keras.constraints import Constraint\n",
        "from matplotlib import pyplot"
      ],
      "execution_count": null,
      "outputs": []
    },
    {
      "cell_type": "code",
      "metadata": {
        "id": "Cwn-y95Cg6ld",
        "colab_type": "code",
        "colab": {}
      },
      "source": [
        "\n",
        "params = {}\n",
        "params['1_n_features'] = train_data.shape[1]\n",
        "params['1.5_n_features'] = round(1.5 * train_data.shape[1])\n",
        "params['2_n_features'] = 2* train_data.shape[1]\n"
      ],
      "execution_count": null,
      "outputs": []
    },
    {
      "cell_type": "code",
      "metadata": {
        "id": "JJXJAqcQYPjh",
        "colab_type": "code",
        "colab": {}
      },
      "source": [
        "# clip model weights to a given hypercube\n",
        "class ClipConstraint(Constraint):\n",
        "\t# set clip value when initialized\n",
        "\tdef __init__(self, clip_value):\n",
        "\t\tself.clip_value = clip_value\n",
        " \n",
        "\t# clip model weights to hypercube\n",
        "\tdef __call__(self, weights):\n",
        "\t\treturn backend.clip(weights, -self.clip_value, self.clip_value)\n",
        " \n",
        "\t# get the config\n",
        "\tdef get_config(self):\n",
        "\t\treturn {'clip_value': self.clip_value}\n",
        " \n",
        "# calculate wasserstein loss\n",
        "def wasserstein_loss(y_true, y_pred):\n",
        "\treturn backend.mean(y_true * y_pred)"
      ],
      "execution_count": null,
      "outputs": []
    },
    {
      "cell_type": "code",
      "metadata": {
        "id": "QlAqn83KZD3h",
        "colab_type": "code",
        "colab": {}
      },
      "source": [
        "# define the standalone critic model\n",
        "def define_critic(in_shape):\n",
        "  # weight initialization\n",
        "  init = RandomNormal(stddev=0.02)\n",
        "  # weight constraint\n",
        "  const = ClipConstraint(0.01)\n",
        "  # define model\n",
        "  model = Sequential()\n",
        "\n",
        "  model.add(Dense(64), kernel_initializer=init, kernel_constraint=const, input_shape=in_shape)\n",
        "  model.add(LeakyReLU(alpha=0.2))\n",
        "\n",
        "  model.add(Dense(128), kernel_initializer=init, kernel_constraint=const)\n",
        "  model.add(LeakyReLU(alpha=0.2))\n",
        "\n",
        "  model.add(Dense(256), kernel_initializer=init, kernel_constraint=const)\n",
        "  model.add(LeakyReLU(alpha=0.2))\n",
        "  # scoring, linear activation\n",
        "  model.add(Flatten())\n",
        "  model.add(Dense(1))\n",
        "  # compile model\n",
        "  opt = RMSprop(lr=0.00005)\n",
        "  model.compile(loss=wasserstein_loss, optimizer=opt)\n",
        "  return model"
      ],
      "execution_count": null,
      "outputs": []
    },
    {
      "cell_type": "code",
      "metadata": {
        "id": "xzk-Ms8tZFC7",
        "colab_type": "code",
        "colab": {}
      },
      "source": [
        "def define_generator(latent_dim, params):\n",
        "  \n",
        "  # weight initialization\n",
        "  init = RandomNormal(stddev=0.02)\n",
        "  # define model\n",
        "  model = Sequential()\n",
        "\n",
        "  model.add(Dense(params['2_n_features']), kernel_initializer=init, input_dim=latent_dim, activation=\"relu\")\n",
        "\n",
        "  model.add(Dense(params['1.5_n_features']), kernel_initializer=init, activation=\"relu\")\n",
        "\n",
        "  model.add(Dense(params['1_n_features']), kernel_initializer=init, activation=\"sigmoid\")\n",
        "  model.add(sigmoid())\n",
        "  return model"
      ],
      "execution_count": null,
      "outputs": []
    },
    {
      "cell_type": "code",
      "metadata": {
        "id": "RQmizwhLcbSR",
        "colab_type": "code",
        "colab": {}
      },
      "source": [
        ""
      ],
      "execution_count": null,
      "outputs": []
    },
    {
      "cell_type": "code",
      "metadata": {
        "id": "tJ9UnBx6hfu7",
        "colab_type": "code",
        "colab": {}
      },
      "source": [
        "# define the combined generator and critic model, for updating the generator\n",
        "def define_gan(generator, critic):\n",
        "\t# make weights in the critic not trainable\n",
        "\tcritic.trainable = False\n",
        "\t# connect them\n",
        "\tmodel = Sequential()\n",
        "\t# add generator\n",
        "\tmodel.add(generator)\n",
        "\t# add the critic\n",
        "\tmodel.add(critic)\n",
        "\t# compile model\n",
        "\topt = RMSprop(lr=0.00005)\n",
        "\tmodel.compile(loss=wasserstein_loss, optimizer=opt)\n",
        "\treturn model"
      ],
      "execution_count": null,
      "outputs": []
    },
    {
      "cell_type": "code",
      "metadata": {
        "id": "3Z4LXi5ihoLf",
        "colab_type": "code",
        "colab": {}
      },
      "source": [
        ""
      ],
      "execution_count": null,
      "outputs": []
    },
    {
      "cell_type": "code",
      "metadata": {
        "id": "8xSBD-1onsmu",
        "colab_type": "code",
        "colab": {}
      },
      "source": [
        ""
      ],
      "execution_count": null,
      "outputs": []
    },
    {
      "cell_type": "code",
      "metadata": {
        "id": "sJCaVM7Jn9NX",
        "colab_type": "code",
        "colab": {}
      },
      "source": [
        ""
      ],
      "execution_count": null,
      "outputs": []
    }
  ]
}